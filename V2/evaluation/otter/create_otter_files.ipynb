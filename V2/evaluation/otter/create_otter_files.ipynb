{
 "cells": [
  {
   "cell_type": "code",
   "execution_count": 1,
   "metadata": {},
   "outputs": [],
   "source": [
    "import json\n",
    "import pandas as pd"
   ]
  },
  {
   "cell_type": "code",
   "execution_count": 2,
   "metadata": {},
   "outputs": [
    {
     "name": "stdout",
     "output_type": "stream",
     "text": [
      "dict_keys(['t_a2b769a0-c082-4c26-8d8d-e2c5b8a79d93', 't_16325e3d-4fe8-4d6a-a25f-caefd4d03a95', 't_7ca0fc16-2885-4875-86b3-e0d7db9971d9', 't_f129edb1-d8e2-4624-b153-fbdb2cd8e63c', 't_132b556b-bf14-44f8-9f62-3498e9938ef7', 't_84deb6df-4ff2-4cbf-86b3-966833eae414', 't_4ca6a5c4-dd76-4d7f-9129-d5c406bce94a', 't_e278132b-f6ff-452a-84ab-f513d988c8ef', 't_a3cb98ca-bef2-4922-8409-5f5753decd55', 't_15ffb708-486e-4265-a6a3-f567bd618514', 't_26fe3ef6-5e2c-448b-9e3f-89f7ffe5b5ad', 't_022a9e43-bb8e-4452-9713-ebf456d6320e', 't_69ea5f2a-fd67-4a0f-ae4e-c31a802de8a3', 't_950e5127-b76b-4ddb-99dc-245164a05d52', 't_c2c7aa33-7ff3-48a8-b045-e2f6958d360a', 't_556a1108-5daf-4a59-aab7-745a8c677286', 't_d96a8d41-7b03-4346-a167-04052f2cc4b3', 't_bd74a5ac-797f-43a0-a843-bcaa584f4a2c', 't_f23b2926-b172-4d85-8fb9-c9f7fb193b1f', 't_370fb301-4042-4fa0-a775-8288d4b1daee', 't_d1b3b65a-7911-427c-a6e8-28eb92002c01', 't_efd85137-2d02-46e7-baed-c5e5544a40f9', 't_ed8d264e-a542-41b0-a657-0182604ca735', 't_68769b96-2795-4295-a12b-773fbf323c1d', 't_18057e12-4548-4e89-ac29-60f1fa33036b', 't_e3c378de-63bc-41f9-85b8-5775665bc158', 't_462ca67f-782f-4bd6-b29c-955be0c1b577', 't_0947b2a1-07a7-4690-96e2-f57dc03d0ec7', 't_99909f09-b087-4ffe-b297-3ed4da086424', 't_082527ab-c2b8-4914-bd43-569bbdecb242', 't_88366e8c-b073-494c-b8bc-b4e15ab8fc93', 't_29f32c89-b054-4ec6-a0ed-ad9a9451415b', 't_e7e57653-35c3-45a1-8eb4-fba865b914ec', 't_c5bd43d7-3d95-4502-b90b-e3658d5b2434', 't_f0f07fbb-6838-4ad0-9563-0b0a27f29c00', 't_3e5b15a9-d54c-43c2-baa6-7b96a7755def', 't_c3ef95f0-3120-4d6c-b41d-c22496b07b2b', 't_7c384d58-a48a-448c-a1c8-6797d4d0cab7', 't_789c66a2-816f-4118-a917-ebd96995c5ee', 't_a441ca2f-598e-40f9-91c4-1c05d5dd688d', 't_5d83b898-09e5-440f-b176-adc9d59aa781', 't_e7b1ead8-d2e3-4a0a-b5f2-3c15711b434f', 't_0de492fb-35e7-4fc2-b694-79ee5688aa9e', 't_dfa16436-3ba1-400b-b4d3-0308a65a5a17', 't_ff1036a9-fb71-4918-9083-355b458c8a66', 't_cd8c2c4a-3fc0-48c8-8943-7e9cc2d97f41', 't_b4898205-9591-4db2-945a-8ade0111c5c9', 't_2c765d8c-9cb4-4860-8b6b-0dea42b7af93', 't_9dd8d43d-ab47-4d5d-94ad-b74e79972ef4', 't_e5961077-0dad-42b4-8b8a-bc341d7b4bbc', 't_b6f39201-a7fa-4991-bad8-16a9c5e378ea', 't_33f0f3e5-7194-42d8-8017-7a738aef78ba', 't_1bd5c14c-aa4e-4463-82c1-e65374477b77', 't_1c458db7-a73d-4f43-a02c-cb6485e269b7', 't_02f7e336-15cf-43f8-a279-cb18278baa80', 't_9e8bfb9d-51b4-40b4-abae-a093cb2f5d69', 't_2a2f2511-aa28-4094-a6c0-1bcb2a6f77a2', 't_3d3a604d-073f-4b68-af43-3c7c5525be93', 't_4c15c113-96fc-4ac1-8286-8dba89ca52cb', 't_4aa56380-3548-48e9-8860-31e702e3b4a9', 't_08c7e7bb-951d-409c-8dc0-a873fa3a0102', 't_78340211-e831-40ed-b0da-e83084b64b00', 't_cd34b1ce-97f4-4e09-836d-9dcc54cf3721', 't_c3382a4c-41ed-4764-99a1-d3f1d8bd983e', 't_571ef3a6-a437-4cd6-9351-6a3d8adaf946', 't_2f2311b0-e5e0-4d6d-82a7-0b78a10e8b53', 't_26ae51d7-5e95-445d-8006-bd36aa470c7e', 't_ba0f240c-51c9-46e8-8fd6-94db4e96d0d7', 't_05fe6616-46c6-4ace-9bcd-a2863b91753a', 't_7bfa27d7-87ed-4999-9bb6-d350e691b10d', 't_394c1bae-2903-49b3-8349-6a14a0ed06ac', 't_40d02dba-c26a-437f-bac5-66b7f83df6d8', 't_97c81ee4-d7de-46a7-a6ea-4a5fc413de5b', 't_33f25497-180f-49da-962b-3927f7c65a10', 't_389c330a-585e-4a50-b6b6-b0b60426d2e0', 't_1ead5475-8c5a-45bd-a2c8-3bf21b6aaf0c', 't_2fbd2da7-cb5a-4a4a-84f5-66c2e0175926', 't_3fc1a7ea-5166-4ee7-9069-fb8e093e9231', 't_950c4eb9-4c11-41e3-bef5-c2c3068218bf', 't_a63c6b0d-fdc0-4221-8eea-a22e6c002850', 't_fd34ecc7-d715-47e0-bec9-f1bca217bf06', 't_429295e5-be37-4605-bf63-2fedbfc79f37', 't_b9925a3f-106b-4bd6-adb9-36412c9ca2f7', 't_dae77ee5-3803-4b3f-9d65-34a30d08b559', 't_2a11228a-716e-495c-a303-c53252647d48', 't_94ca1fd7-184d-479e-aa92-756fdbfd7e3b', 't_9045d7b0-6278-474e-b08f-43267cb4c004', 't_35309bf2-b33a-4cbc-bbec-fdb30c9ce381', 't_b268ae27-2020-4460-a580-c3fc5b40ebbb', 't_63390044-6626-4f3f-a8f9-69fa50397c51', 't_4f163b8a-2349-4676-98eb-a6bdc0312401', 't_670492b8-3fd6-4819-9be3-fb75d0a74119', 't_e869db87-0b83-4110-8768-fd9c3362cc2e', 't_55971d6c-4af1-4805-9e2b-5b881f9e046d', 't_a4b7099d-f0a4-4a83-8003-b145466758b5', 't_26e2e8d4-653b-48af-8592-5c68215fa59e', 't_e3b93e55-727d-41eb-a019-41a475cf3117', 't_c99fb5e8-a6f8-41a1-8833-7795538f15a1', 't_2c6e8fe0-45ac-453b-a94d-cb28d244c627', 't_ef5e85cd-b980-494d-81a6-53466bb8fb93', 't_b6fdf705-3c7b-4bce-a418-a5d46a100803', 't_64f1212f-0e62-47fa-a757-2eb5588a064b', 't_8c716936-7bf3-4f3e-9ceb-6cafb77ab26c', 't_ccdad2af-bfab-4a93-9948-6e0b4a023ea1', 't_b15556ac-9120-4ae5-94f3-aacacbb6a30c', 't_0ffc45cb-3067-4856-ab92-776ba6ccb257', 't_65bc9b75-9483-4d85-8d16-08442c3ee4c2', 't_51f7edd8-cd91-4b91-a0cb-0de278934fff', 't_1462b660-3dfb-4036-8fde-d5d101804d5c', 't_f084e6b2-63ce-4b9b-bf9f-eb06becc2ed0', 't_f9be99ee-1641-459b-8111-8dcbd3830f06', 't_8ad8190a-f78b-40c2-ab81-b2eec750d218', 't_c88b8366-d3a8-4127-83ee-74978e53a914', 't_8f8be1bc-0b16-48f9-95b9-136561de63bd', 't_dd41f545-3295-4b16-8b29-64b498d2501e', 't_f83f6529-eb59-4e4c-91bb-0c7b8182889b', 't_0cbf608e-e8f5-4108-9cf0-a3338a42fd4b', 't_39840838-1855-4f42-800e-b3f84d9779fd', 't_109c9ded-8de1-4bb9-8879-0dd716d4ce71', 't_0cbe7a34-3e65-4c86-ad8d-1aeb060ff970', 't_489b9deb-9b6f-42f0-978b-99ed7e653444', 't_a061f3d7-2453-447c-b053-17dbdc2c3366', 't_ade77e20-2dbc-4c28-ab04-25bca9924ba3', 't_2ca3de18-0d9d-4cf6-9740-98e3ad62b814', 't_85fd0895-107d-402d-a941-225ffbb97d2a', 't_d3c9bbbb-9dd0-4ccb-b345-815e02996b5d', 't_79af4a41-4594-46cc-a63a-e512c4424f94', 't_3d2fd030-edfe-40ee-b0a9-d2e4383ba988', 't_faee6df9-8e7b-45b4-8130-7696211c6afa', 't_5d505079-9a7d-4f9f-a6f0-4d3177ee83e2', 't_4884c98c-f51c-43ef-be05-bf4a986a2a74', 't_fbf56c5f-5552-46fb-af83-50a7d1975e2d', 't_ddd9ac05-fc89-487c-8245-d9819914cbfb', 't_65af44f4-f15a-4607-bbc8-741f2a3742b2', 't_ee0489ba-f729-4cfa-b21b-4360395d17e2', 't_8c0a48c4-8e5a-4e00-99a7-08aeffc83111', 't_31793cc3-931f-4873-ab50-cdbfa7dd0660', 't_1b1c8886-c798-492f-aa2c-a507dddee645', 't_bbfbba70-35d1-43a4-a93f-888ffd5ffcd9', 't_7f7d71d6-aa5c-4b72-80cd-e891d8a76c1b', 't_820714d8-b9b1-4bbc-8d1f-1793e877077d', 't_d6f1e602-7aa0-4fa1-a212-e6f4d529b3eb', 't_b071e972-796b-4176-8ce4-4f6932836aa6', 't_aa61ad0f-acfe-45cb-9699-ff0e361dc6c2', 't_6783ca20-3714-41ec-bd45-c21ab6bb2f2c', 't_3b0c6801-db91-4e1e-b52c-deaa514cdea1', 't_2af2a351-37e8-42cb-be72-e3918e2f1505', 't_5876f64c-c0cc-47e6-8bf3-9ef73dd12372', 't_18747e16-5d67-4a7b-8ed7-9b799aa171b1', 't_5d5d2df0-08ef-4130-8a8c-3d0ea3465c4b', 't_8ff946be-036b-40ff-a654-eee3eaa8240e', 't_55da0da5-c7c3-463b-adf5-3d28aef78841', 't_c2519c08-a3af-4eb2-8475-e9f5e1e1179a', 't_144c5d93-2bae-42ff-9534-ec839766ee52', 't_862ed2a3-b0b5-4e92-a77a-7a7367e59f0f', 't_e750fec2-2ef2-4abe-b933-61174003543e', 't_c18a597a-9909-4ff7-963d-bccfd666ed7f', 't_f2c38e20-4113-4dee-88d5-96d3cf604fea', 't_05902d8d-b198-4d39-9389-4484b67a63bf', 't_f584ab13-455e-49db-8e49-6fd78ff752ad', 't_f35d4a47-3b55-4402-99c8-f9d51e8b7d4c', 't_8dfb92e9-b5d4-4405-9323-211c6d52ecde', 't_595e05cd-6202-4381-98f9-5fa3da69ed2c', 't_2bb5b0c8-5040-429f-a979-e5095c88e082'])\n"
     ]
    }
   ],
   "source": [
    "eval_ds = json.loads(open('../eval_ds2_complete_valid.json', 'r').read())\n",
    "print(eval_ds.keys())"
   ]
  },
  {
   "cell_type": "code",
   "execution_count": 3,
   "metadata": {},
   "outputs": [],
   "source": [
    "src_file = open('./source_valid.csv', 'w')\n",
    "trg_file = open('./target_valid.csv', 'w')\n",
    "idx = 0\n",
    "for key in eval_ds:\n",
    "    block = eval_ds[key]\n",
    "    for inst in block:\n",
    "        # if len(inst['conv_history']) >= 3:\n",
    "        #     src = inst['conv_history'][-3].strip()\n",
    "        #     trg = inst['conv_history'][-2].strip()\n",
    "        #     dst = inst['conv_history'][-1].strip()\n",
    "        #     src_out_line = f'{idx},{src},{dst}\\n'\n",
    "        #     trg_out_line = f'{idx},{trg}\\n'\n",
    "            \n",
    "        #     src_file.write(src_out_line)\n",
    "        #     trg_file.write(trg_out_line)\n",
    "        #     idx += 1\n",
    "        src = inst['utterance'].strip()\n",
    "        trg = inst['ground_truth'].strip()\n",
    "        src = src.replace('\\n', '')\n",
    "        trg = trg.replace('\\n', '')\n",
    "        src_out_line = f'{idx},{src},{trg}\\n'\n",
    "        trg_out_line = f'{idx},{trg}\\n'\n",
    "        \n",
    "        src_file.write(src_out_line)\n",
    "        trg_file.write(trg_out_line)\n",
    "        idx += 1\n",
    "src_file.close()\n",
    "trg_file.close()\n"
   ]
  }
 ],
 "metadata": {
  "kernelspec": {
   "display_name": "topic-responder-venv",
   "language": "python",
   "name": "python3"
  },
  "language_info": {
   "codemirror_mode": {
    "name": "ipython",
    "version": 3
   },
   "file_extension": ".py",
   "mimetype": "text/x-python",
   "name": "python",
   "nbconvert_exporter": "python",
   "pygments_lexer": "ipython3",
   "version": "3.9.16"
  }
 },
 "nbformat": 4,
 "nbformat_minor": 2
}
