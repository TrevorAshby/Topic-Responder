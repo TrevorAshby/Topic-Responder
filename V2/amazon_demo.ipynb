{
 "cells": [
  {
   "cell_type": "code",
   "execution_count": 1,
   "metadata": {},
   "outputs": [
    {
     "name": "stderr",
     "output_type": "stream",
     "text": [
      "c:\\Users\\Trevi\\AppData\\Local\\Programs\\Python\\Python310\\lib\\site-packages\\tqdm\\auto.py:21: TqdmWarning: IProgress not found. Please update jupyter and ipywidgets. See https://ipywidgets.readthedocs.io/en/stable/user_install.html\n",
      "  from .autonotebook import tqdm as notebook_tqdm\n"
     ]
    }
   ],
   "source": [
    "import numpy as np\n",
    "import torch\n",
    "import json\n",
    "from transformers import AutoTokenizer, AutoConfig,\\\n",
    "      T5ForConditionalGeneration, AutoModelForSeq2SeqLM, AutoModelForSequenceClassification, AutoModelForCausalLM\n",
    "from scipy.special import softmax"
   ]
  },
  {
   "cell_type": "code",
   "execution_count": 2,
   "metadata": {},
   "outputs": [
    {
     "ename": "FileNotFoundError",
     "evalue": "[Errno 2] No such file or directory: './topic_extraction/model/topic_er2.pt'",
     "output_type": "error",
     "traceback": [
      "\u001b[1;31m---------------------------------------------------------------------------\u001b[0m",
      "\u001b[1;31mFileNotFoundError\u001b[0m                         Traceback (most recent call last)",
      "\u001b[1;32ma:\\VirginiaTech\\NLPLAB\\Topic-Responder\\V2\\amazon_demo.ipynb Cell 2\u001b[0m line \u001b[0;36m4\n\u001b[0;32m      <a href='vscode-notebook-cell:/a%3A/VirginiaTech/NLPLAB/Topic-Responder/V2/amazon_demo.ipynb#W1sZmlsZQ%3D%3D?line=1'>2</a>\u001b[0m cot_tokenizer \u001b[39m=\u001b[39m AutoTokenizer\u001b[39m.\u001b[39mfrom_pretrained(\u001b[39m\"\u001b[39m\u001b[39mprakharz/DIAL-BART0\u001b[39m\u001b[39m\"\u001b[39m)\n\u001b[0;32m      <a href='vscode-notebook-cell:/a%3A/VirginiaTech/NLPLAB/Topic-Responder/V2/amazon_demo.ipynb#W1sZmlsZQ%3D%3D?line=2'>3</a>\u001b[0m cot_model \u001b[39m=\u001b[39m AutoModelForSeq2SeqLM\u001b[39m.\u001b[39mfrom_pretrained(\u001b[39m\"\u001b[39m\u001b[39mprakharz/DIAL-BART0\u001b[39m\u001b[39m\"\u001b[39m)\n\u001b[1;32m----> <a href='vscode-notebook-cell:/a%3A/VirginiaTech/NLPLAB/Topic-Responder/V2/amazon_demo.ipynb#W1sZmlsZQ%3D%3D?line=3'>4</a>\u001b[0m cot_model\u001b[39m.\u001b[39mload_state_dict(torch\u001b[39m.\u001b[39;49mload(\u001b[39m'\u001b[39;49m\u001b[39m./topic_extraction/model/topic_er2.pt\u001b[39;49m\u001b[39m'\u001b[39;49m))\n\u001b[0;32m      <a href='vscode-notebook-cell:/a%3A/VirginiaTech/NLPLAB/Topic-Responder/V2/amazon_demo.ipynb#W1sZmlsZQ%3D%3D?line=5'>6</a>\u001b[0m recommender_tokenizer \u001b[39m=\u001b[39m AutoTokenizer\u001b[39m.\u001b[39mfrom_pretrained(\u001b[39m\"\u001b[39m\u001b[39mt5-large\u001b[39m\u001b[39m\"\u001b[39m)\n\u001b[0;32m      <a href='vscode-notebook-cell:/a%3A/VirginiaTech/NLPLAB/Topic-Responder/V2/amazon_demo.ipynb#W1sZmlsZQ%3D%3D?line=6'>7</a>\u001b[0m recommender_model \u001b[39m=\u001b[39m AutoModelForSeq2SeqLM\u001b[39m.\u001b[39mfrom_pretrained(\u001b[39m\"\u001b[39m\u001b[39mt5-large\u001b[39m\u001b[39m\"\u001b[39m)\n",
      "File \u001b[1;32mc:\\Users\\Trevi\\AppData\\Local\\Programs\\Python\\Python310\\lib\\site-packages\\torch\\serialization.py:791\u001b[0m, in \u001b[0;36mload\u001b[1;34m(f, map_location, pickle_module, weights_only, **pickle_load_args)\u001b[0m\n\u001b[0;32m    788\u001b[0m \u001b[39mif\u001b[39;00m \u001b[39m'\u001b[39m\u001b[39mencoding\u001b[39m\u001b[39m'\u001b[39m \u001b[39mnot\u001b[39;00m \u001b[39min\u001b[39;00m pickle_load_args\u001b[39m.\u001b[39mkeys():\n\u001b[0;32m    789\u001b[0m     pickle_load_args[\u001b[39m'\u001b[39m\u001b[39mencoding\u001b[39m\u001b[39m'\u001b[39m] \u001b[39m=\u001b[39m \u001b[39m'\u001b[39m\u001b[39mutf-8\u001b[39m\u001b[39m'\u001b[39m\n\u001b[1;32m--> 791\u001b[0m \u001b[39mwith\u001b[39;00m _open_file_like(f, \u001b[39m'\u001b[39;49m\u001b[39mrb\u001b[39;49m\u001b[39m'\u001b[39;49m) \u001b[39mas\u001b[39;00m opened_file:\n\u001b[0;32m    792\u001b[0m     \u001b[39mif\u001b[39;00m _is_zipfile(opened_file):\n\u001b[0;32m    793\u001b[0m         \u001b[39m# The zipfile reader is going to advance the current file position.\u001b[39;00m\n\u001b[0;32m    794\u001b[0m         \u001b[39m# If we want to actually tail call to torch.jit.load, we need to\u001b[39;00m\n\u001b[0;32m    795\u001b[0m         \u001b[39m# reset back to the original position.\u001b[39;00m\n\u001b[0;32m    796\u001b[0m         orig_position \u001b[39m=\u001b[39m opened_file\u001b[39m.\u001b[39mtell()\n",
      "File \u001b[1;32mc:\\Users\\Trevi\\AppData\\Local\\Programs\\Python\\Python310\\lib\\site-packages\\torch\\serialization.py:271\u001b[0m, in \u001b[0;36m_open_file_like\u001b[1;34m(name_or_buffer, mode)\u001b[0m\n\u001b[0;32m    269\u001b[0m \u001b[39mdef\u001b[39;00m \u001b[39m_open_file_like\u001b[39m(name_or_buffer, mode):\n\u001b[0;32m    270\u001b[0m     \u001b[39mif\u001b[39;00m _is_path(name_or_buffer):\n\u001b[1;32m--> 271\u001b[0m         \u001b[39mreturn\u001b[39;00m _open_file(name_or_buffer, mode)\n\u001b[0;32m    272\u001b[0m     \u001b[39melse\u001b[39;00m:\n\u001b[0;32m    273\u001b[0m         \u001b[39mif\u001b[39;00m \u001b[39m'\u001b[39m\u001b[39mw\u001b[39m\u001b[39m'\u001b[39m \u001b[39min\u001b[39;00m mode:\n",
      "File \u001b[1;32mc:\\Users\\Trevi\\AppData\\Local\\Programs\\Python\\Python310\\lib\\site-packages\\torch\\serialization.py:252\u001b[0m, in \u001b[0;36m_open_file.__init__\u001b[1;34m(self, name, mode)\u001b[0m\n\u001b[0;32m    251\u001b[0m \u001b[39mdef\u001b[39;00m \u001b[39m__init__\u001b[39m(\u001b[39mself\u001b[39m, name, mode):\n\u001b[1;32m--> 252\u001b[0m     \u001b[39msuper\u001b[39m()\u001b[39m.\u001b[39m\u001b[39m__init__\u001b[39m(\u001b[39mopen\u001b[39;49m(name, mode))\n",
      "\u001b[1;31mFileNotFoundError\u001b[0m: [Errno 2] No such file or directory: './topic_extraction/model/topic_er2.pt'"
     ]
    }
   ],
   "source": [
    "# download the models\n",
    "cot_tokenizer = AutoTokenizer.from_pretrained(\"prakharz/DIAL-BART0\")\n",
    "cot_model = AutoModelForSeq2SeqLM.from_pretrained(\"prakharz/DIAL-BART0\")\n",
    "cot_model.load_state_dict(torch.load('./CoT/topic_extraction/model/topic_er2.pt'))\n",
    "\n",
    "recommender_tokenizer = AutoTokenizer.from_pretrained(\"t5-large\")\n",
    "recommender_model = AutoModelForSeq2SeqLM.from_pretrained(\"t5-large\")\n",
    "recommender_model.load_state_dict(torch.load('./CoT/recommender/model/rec_er.pt'))\n",
    "\n",
    "guideliner_tokenizer = AutoTokenizer.from_pretrained(\"google/flan-t5-large\")\n",
    "guideliner = T5ForConditionalGeneration.from_pretrained(\"TrevorAshby/guideliner\")\n",
    "\n",
    "blen_tokenizer = AutoTokenizer.from_pretrained(\"facebook/blenderbot-400M-distill\")\n",
    "blen_model = AutoModelForSeq2SeqLM.from_pretrained(\"TrevorAshby/blenderbot-400M-distill\")"
   ]
  },
  {
   "cell_type": "code",
   "execution_count": null,
   "metadata": {},
   "outputs": [],
   "source": [
    "def generate_cot(text_in):\n",
    "    tok_text = cot_tokenizer(text_in, return_tensors='pt')\n",
    "    gen_text = cot_model.generate(**tok_text)\n",
    "    dec_text = cot_tokenizer.decode(gen_text[0], skip_special_tokens=True)\n",
    "    return dec_text\n",
    "\n",
    "def generate_recommendation(text_in):\n",
    "    tok_text = recommender_tokenizer(text_in, return_tensors='pt')\n",
    "    gen_text = recommender_model.generate(**tok_text, max_new_tokens=32)\n",
    "    dec_text = recommender_tokenizer.decode(gen_text[0], skip_special_tokens=True)\n",
    "    return dec_text\n",
    "\n",
    "def generate_guideline(text_in, suggested_topics):\n",
    "    guide_in_str =f'A: {text_in}| {suggested_topics}'\n",
    "    in_ids = guideliner_tokenizer(guide_in_str, max_length=512, padding='max_length', return_tensors='pt').input_ids\n",
    "    guideline_example = guideliner.generate(in_ids, max_new_tokens=50)\n",
    "    guideline = guideliner_tokenizer.decode(guideline_example[0], skip_special_tokens=True)\n",
    "    return guideline\n",
    "\n",
    "def generate_response(text_in, guideline):\n",
    "    blend_in_str = text_in + ' [GUIDELINE] ' + guideline\n",
    "    blend_in_ids = blen_tokenizer([blend_in_str], max_length=512, return_tensors='pt', truncation=True)\n",
    "    blend_example = blen_model.generate(**blend_in_ids, max_length=60)\n",
    "    response = blen_tokenizer.batch_decode(blend_example, skip_special_tokens=True)[0]\n",
    "    return response\n",
    "\n",
    "def CoT_to_Preference(cot):\n",
    "    # (sports,yes)|(football team,yes)\n",
    "    # \"{\\\"sports\\\":\\\"positive\\\", \\\"football\\\":\\\"positive\\\"}\"\n",
    "    topics = cot.split('|')\n",
    "    top_dict = {}\n",
    "    for top in topics:\n",
    "        top = top.replace('(', '')\n",
    "        top = top.replace(')', '')\n",
    "        the_top, pref = top.split(',')\n",
    "        #print(pref)\n",
    "        if pref == 'yes':\n",
    "            pref = 'positive'\n",
    "        elif pref == 'no':\n",
    "            pref = 'negative'\n",
    "        else:\n",
    "            pref = 'unknown'\n",
    "        top_dict[the_top] = pref\n",
    "    return top_dict"
   ]
  },
  {
   "cell_type": "code",
   "execution_count": null,
   "metadata": {},
   "outputs": [],
   "source": [
    "# human response\n",
    "user_in = \"I watched a really good movie today.\"\n",
    "\n",
    "# topic extraction\n",
    "topic_xtract = generate_cot(user_in)\n",
    "\n",
    "# memory update\n",
    "# memory retrieve\n",
    "topic_pref_profile = CoT_to_Preference(topic_xtract)\n",
    "\n",
    "# topic recommender\n",
    "num_sugg = 3\n",
    "prompt = f\"Instruction: Generate only {num_sugg} similar topics that could be suggested for new conversation that takes influence from but are not present in the following user profile: {topic_pref_profile} In the generated answer, generate each of the suggested topics separated by a comma like so: TOPIC1,TOPIC2,TOPIC3,TOPIC4,etc.\\nSuggested Topics:\"\n",
    "topic_recs = generate_recommendation(prompt).split(',')\n",
    "\n",
    "# guideline generation\n",
    "\n",
    "# response generate\n"
   ]
  }
 ],
 "metadata": {
  "kernelspec": {
   "display_name": "Python 3",
   "language": "python",
   "name": "python3"
  },
  "language_info": {
   "codemirror_mode": {
    "name": "ipython",
    "version": 3
   },
   "file_extension": ".py",
   "mimetype": "text/x-python",
   "name": "python",
   "nbconvert_exporter": "python",
   "pygments_lexer": "ipython3",
   "version": "3.10.0"
  }
 },
 "nbformat": 4,
 "nbformat_minor": 2
}
