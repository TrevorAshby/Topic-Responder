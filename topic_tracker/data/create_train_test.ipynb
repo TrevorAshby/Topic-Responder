{
 "cells": [
  {
   "cell_type": "code",
   "execution_count": 14,
   "metadata": {},
   "outputs": [],
   "source": [
    "import pandas as pd\n",
    "import numpy as np\n",
    "from sklearn.model_selection import train_test_split"
   ]
  },
  {
   "cell_type": "code",
   "execution_count": 2,
   "metadata": {},
   "outputs": [],
   "source": [
    "utterances = open('./tracker_input_cot_new.txt', 'r').readlines()\n",
    "topics = open('./tracker_output_cot.txt', 'r').readlines()"
   ]
  },
  {
   "cell_type": "code",
   "execution_count": 17,
   "metadata": {},
   "outputs": [
    {
     "name": "stdout",
     "output_type": "stream",
     "text": [
      "[\"I'm doing pretty well.\", '(emotions,yes)|(well-being,yes)']\n"
     ]
    },
    {
     "data": {
      "text/html": [
       "<div>\n",
       "<style scoped>\n",
       "    .dataframe tbody tr th:only-of-type {\n",
       "        vertical-align: middle;\n",
       "    }\n",
       "\n",
       "    .dataframe tbody tr th {\n",
       "        vertical-align: top;\n",
       "    }\n",
       "\n",
       "    .dataframe thead th {\n",
       "        text-align: right;\n",
       "    }\n",
       "</style>\n",
       "<table border=\"1\" class=\"dataframe\">\n",
       "  <thead>\n",
       "    <tr style=\"text-align: right;\">\n",
       "      <th></th>\n",
       "      <th>utterance</th>\n",
       "      <th>topics</th>\n",
       "    </tr>\n",
       "  </thead>\n",
       "  <tbody>\n",
       "    <tr>\n",
       "      <th>0</th>\n",
       "      <td>I'm doing pretty well.</td>\n",
       "      <td>(emotions,yes)|(well-being,yes)</td>\n",
       "    </tr>\n",
       "    <tr>\n",
       "      <th>1</th>\n",
       "      <td>I have, but to be honest, I'm not too interest...</td>\n",
       "      <td>(news,no)|(politics,no)</td>\n",
       "    </tr>\n",
       "    <tr>\n",
       "      <th>2</th>\n",
       "      <td>Actually, I just finished a really interesting...</td>\n",
       "      <td>(entertainment,yes)|(documentaries,yes)|(space...</td>\n",
       "    </tr>\n",
       "    <tr>\n",
       "      <th>3</th>\n",
       "      <td>I don't play video games much, to be honest.</td>\n",
       "      <td>(games,no)|(video games,no)</td>\n",
       "    </tr>\n",
       "    <tr>\n",
       "      <th>4</th>\n",
       "      <td>I'm more of an oldies person, like classic roc...</td>\n",
       "      <td>(music,yes)|(rock n roll,yes)</td>\n",
       "    </tr>\n",
       "  </tbody>\n",
       "</table>\n",
       "</div>"
      ],
      "text/plain": [
       "                                           utterance  \\\n",
       "0                             I'm doing pretty well.   \n",
       "1  I have, but to be honest, I'm not too interest...   \n",
       "2  Actually, I just finished a really interesting...   \n",
       "3       I don't play video games much, to be honest.   \n",
       "4  I'm more of an oldies person, like classic roc...   \n",
       "\n",
       "                                              topics  \n",
       "0                    (emotions,yes)|(well-being,yes)  \n",
       "1                            (news,no)|(politics,no)  \n",
       "2  (entertainment,yes)|(documentaries,yes)|(space...  \n",
       "3                        (games,no)|(video games,no)  \n",
       "4                      (music,yes)|(rock n roll,yes)  "
      ]
     },
     "execution_count": 17,
     "metadata": {},
     "output_type": "execute_result"
    }
   ],
   "source": [
    "lines = [[x[0].strip(), x[1].strip()] for x in zip(utterances, topics)]\n",
    "print(lines[0])\n",
    "\n",
    "df = pd.DataFrame.from_dict(lines)\n",
    "df.columns = [\"utterance\", \"topics\"]\n",
    "df.head()"
   ]
  },
  {
   "cell_type": "code",
   "execution_count": 18,
   "metadata": {},
   "outputs": [
    {
     "name": "stdout",
     "output_type": "stream",
     "text": [
      "12015\n",
      "1335\n"
     ]
    }
   ],
   "source": [
    "train, test = train_test_split(df, test_size=0.1)\n",
    "print(len(train))\n",
    "print(len(test))"
   ]
  },
  {
   "cell_type": "code",
   "execution_count": 20,
   "metadata": {},
   "outputs": [],
   "source": [
    "train.to_csv('./xtract_train.csv', sep='\\t')\n",
    "test.to_csv('./xtract_test.csv', sep='\\t')"
   ]
  }
 ],
 "metadata": {
  "kernelspec": {
   "display_name": "topic-responder-venv",
   "language": "python",
   "name": "python3"
  },
  "language_info": {
   "codemirror_mode": {
    "name": "ipython",
    "version": 3
   },
   "file_extension": ".py",
   "mimetype": "text/x-python",
   "name": "python",
   "nbconvert_exporter": "python",
   "pygments_lexer": "ipython3",
   "version": "3.9.16"
  }
 },
 "nbformat": 4,
 "nbformat_minor": 2
}
