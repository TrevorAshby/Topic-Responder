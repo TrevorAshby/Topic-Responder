{
 "cells": [
  {
   "cell_type": "code",
   "execution_count": 2,
   "metadata": {},
   "outputs": [],
   "source": [
    "import pandas as pd\n",
    "import numpy as np\n",
    "from sklearn.model_selection import train_test_split"
   ]
  },
  {
   "cell_type": "code",
   "execution_count": 4,
   "metadata": {},
   "outputs": [
    {
     "data": {
      "text/html": [
       "<div>\n",
       "<style scoped>\n",
       "    .dataframe tbody tr th:only-of-type {\n",
       "        vertical-align: middle;\n",
       "    }\n",
       "\n",
       "    .dataframe tbody tr th {\n",
       "        vertical-align: top;\n",
       "    }\n",
       "\n",
       "    .dataframe thead th {\n",
       "        text-align: right;\n",
       "    }\n",
       "</style>\n",
       "<table border=\"1\" class=\"dataframe\">\n",
       "  <thead>\n",
       "    <tr style=\"text-align: right;\">\n",
       "      <th></th>\n",
       "      <th>profile</th>\n",
       "      <th>topics</th>\n",
       "    </tr>\n",
       "  </thead>\n",
       "  <tbody>\n",
       "    <tr>\n",
       "      <th>0</th>\n",
       "      <td>{\"cooking\":\"positive\", \"baking\":\"positive\"}</td>\n",
       "      <td>food recipes</td>\n",
       "    </tr>\n",
       "    <tr>\n",
       "      <th>1</th>\n",
       "      <td>{\"movies\":\"positive\", \"action\":\"positive\", \"ma...</td>\n",
       "      <td>comics,movie sequels</td>\n",
       "    </tr>\n",
       "    <tr>\n",
       "      <th>2</th>\n",
       "      <td>{\"fashion\":\"positive\", \"designer brands\":\"posi...</td>\n",
       "      <td>fashion trends,shopping</td>\n",
       "    </tr>\n",
       "    <tr>\n",
       "      <th>3</th>\n",
       "      <td>{\"technology\":\"positive\", \"gadgets\":\"positive\"...</td>\n",
       "      <td>tech innovations,app development</td>\n",
       "    </tr>\n",
       "    <tr>\n",
       "      <th>4</th>\n",
       "      <td>{\"fitness\":\"positive\", \"yoga\":\"positive\"}</td>\n",
       "      <td>healthy eating,meditation</td>\n",
       "    </tr>\n",
       "  </tbody>\n",
       "</table>\n",
       "</div>"
      ],
      "text/plain": [
       "                                             profile  \\\n",
       "0        {\"cooking\":\"positive\", \"baking\":\"positive\"}   \n",
       "1  {\"movies\":\"positive\", \"action\":\"positive\", \"ma...   \n",
       "2  {\"fashion\":\"positive\", \"designer brands\":\"posi...   \n",
       "3  {\"technology\":\"positive\", \"gadgets\":\"positive\"...   \n",
       "4          {\"fitness\":\"positive\", \"yoga\":\"positive\"}   \n",
       "\n",
       "                             topics  \n",
       "0                      food recipes  \n",
       "1              comics,movie sequels  \n",
       "2           fashion trends,shopping  \n",
       "3  tech innovations,app development  \n",
       "4         healthy eating,meditation  "
      ]
     },
     "execution_count": 4,
     "metadata": {},
     "output_type": "execute_result"
    }
   ],
   "source": [
    "df = pd.read_csv('./generated_data_commas.txt', sep='|')\n",
    "df.columns = [\"profile\", \"topics\"]\n",
    "df.head()"
   ]
  },
  {
   "cell_type": "code",
   "execution_count": 5,
   "metadata": {},
   "outputs": [
    {
     "name": "stdout",
     "output_type": "stream",
     "text": [
      "359\n",
      "40\n"
     ]
    }
   ],
   "source": [
    "train, test = train_test_split(df, test_size=0.1)\n",
    "print(len(train))\n",
    "print(len(test))"
   ]
  },
  {
   "cell_type": "code",
   "execution_count": 6,
   "metadata": {},
   "outputs": [],
   "source": [
    "train.to_csv('./recommend_train.csv', sep='\\t')\n",
    "test.to_csv('./recommend_test.csv', sep='\\t')"
   ]
  }
 ],
 "metadata": {
  "kernelspec": {
   "display_name": "topic-responder-venv",
   "language": "python",
   "name": "python3"
  },
  "language_info": {
   "codemirror_mode": {
    "name": "ipython",
    "version": 3
   },
   "file_extension": ".py",
   "mimetype": "text/x-python",
   "name": "python",
   "nbconvert_exporter": "python",
   "pygments_lexer": "ipython3",
   "version": "3.9.16"
  }
 },
 "nbformat": 4,
 "nbformat_minor": 2
}
